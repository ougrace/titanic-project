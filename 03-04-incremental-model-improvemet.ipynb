{
 "cells": [
  {
   "cell_type": "markdown",
   "metadata": {},
   "source": [
    "## Incremental Model Improvement With Filters And Masks"
   ]
  },
  {
   "cell_type": "markdown",
   "metadata": {},
   "source": [
    "And now begins the work of data scientist. We have established a benchmark model. We should now begin to refine upon this model seeking to continually improve the benchmark performance that we have. We can do this by using exploratory data analysis to study the features, especially as they relate to the target. If we find a feature that we believe exhibits some pattern of correspondence to our target we can use this to refine our model."
   ]
  },
  {
   "cell_type": "markdown",
   "metadata": {},
   "source": [
    "#### load the dataset using `read.csv()`\n",
    "\n",
    "Load the csv file `titanic-updated.csv` into a dataframe called `titanic`."
   ]
  },
  {
   "cell_type": "code",
   "execution_count": 1,
   "metadata": {
    "deletable": false,
    "nbgrader": {
     "checksum": "f7be45379bf559822c45f1f5700ee1b2",
     "grade": false,
     "grade_id": "cell-0e5c065fee5b051a",
     "locked": false,
     "schema_version": 1,
     "solution": true
    }
   },
   "outputs": [],
   "source": [
    "titanic = read.csv(file=\"titanic-updated.csv\", header=TRUE, row.names = \"X\", sep=\",\")"
   ]
  },
  {
   "cell_type": "code",
   "execution_count": 2,
   "metadata": {},
   "outputs": [
    {
     "data": {
      "text/html": [
       "<table>\n",
       "<thead><tr><th scope=col>Survived</th><th scope=col>Pclass</th><th scope=col>Sex</th><th scope=col>Age</th><th scope=col>SibSp</th><th scope=col>Parch</th><th scope=col>Ticket</th><th scope=col>Fare</th><th scope=col>Cabin</th><th scope=col>Embarked</th></tr></thead>\n",
       "<tbody>\n",
       "\t<tr><td>0               </td><td>3               </td><td>male            </td><td>22              </td><td>1               </td><td>0               </td><td>A/5 21171       </td><td> 7.2500         </td><td>                </td><td>S               </td></tr>\n",
       "\t<tr><td>1               </td><td>1               </td><td>female          </td><td>38              </td><td>1               </td><td>0               </td><td>PC 17599        </td><td>71.2833         </td><td>C85             </td><td>C               </td></tr>\n",
       "\t<tr><td>1               </td><td>3               </td><td>female          </td><td>26              </td><td>0               </td><td>0               </td><td>STON/O2. 3101282</td><td> 7.9250         </td><td>                </td><td>S               </td></tr>\n",
       "\t<tr><td>1               </td><td>1               </td><td>female          </td><td>35              </td><td>1               </td><td>0               </td><td>113803          </td><td>53.1000         </td><td>C123            </td><td>S               </td></tr>\n",
       "\t<tr><td>0               </td><td>3               </td><td>male            </td><td>35              </td><td>0               </td><td>0               </td><td>373450          </td><td> 8.0500         </td><td>                </td><td>S               </td></tr>\n",
       "\t<tr><td>0               </td><td>3               </td><td>male            </td><td>NA              </td><td>0               </td><td>0               </td><td>330877          </td><td> 8.4583         </td><td>                </td><td>Q               </td></tr>\n",
       "</tbody>\n",
       "</table>\n"
      ],
      "text/latex": [
       "\\begin{tabular}{r|llllllllll}\n",
       " Survived & Pclass & Sex & Age & SibSp & Parch & Ticket & Fare & Cabin & Embarked\\\\\n",
       "\\hline\n",
       "\t 0                & 3                & male             & 22               & 1                & 0                & A/5 21171        &  7.2500          &                  & S               \\\\\n",
       "\t 1                & 1                & female           & 38               & 1                & 0                & PC 17599         & 71.2833          & C85              & C               \\\\\n",
       "\t 1                & 3                & female           & 26               & 0                & 0                & STON/O2. 3101282 &  7.9250          &                  & S               \\\\\n",
       "\t 1                & 1                & female           & 35               & 1                & 0                & 113803           & 53.1000          & C123             & S               \\\\\n",
       "\t 0                & 3                & male             & 35               & 0                & 0                & 373450           &  8.0500          &                  & S               \\\\\n",
       "\t 0                & 3                & male             & NA               & 0                & 0                & 330877           &  8.4583          &                  & Q               \\\\\n",
       "\\end{tabular}\n"
      ],
      "text/markdown": [
       "\n",
       "Survived | Pclass | Sex | Age | SibSp | Parch | Ticket | Fare | Cabin | Embarked | \n",
       "|---|---|---|---|---|---|\n",
       "| 0                | 3                | male             | 22               | 1                | 0                | A/5 21171        |  7.2500          |                  | S                | \n",
       "| 1                | 1                | female           | 38               | 1                | 0                | PC 17599         | 71.2833          | C85              | C                | \n",
       "| 1                | 3                | female           | 26               | 0                | 0                | STON/O2. 3101282 |  7.9250          |                  | S                | \n",
       "| 1                | 1                | female           | 35               | 1                | 0                | 113803           | 53.1000          | C123             | S                | \n",
       "| 0                | 3                | male             | 35               | 0                | 0                | 373450           |  8.0500          |                  | S                | \n",
       "| 0                | 3                | male             | NA               | 0                | 0                | 330877           |  8.4583          |                  | Q                | \n",
       "\n",
       "\n"
      ],
      "text/plain": [
       "  Survived Pclass Sex    Age SibSp Parch Ticket           Fare    Cabin\n",
       "1 0        3      male   22  1     0     A/5 21171         7.2500      \n",
       "2 1        1      female 38  1     0     PC 17599         71.2833 C85  \n",
       "3 1        3      female 26  0     0     STON/O2. 3101282  7.9250      \n",
       "4 1        1      female 35  1     0     113803           53.1000 C123 \n",
       "5 0        3      male   35  0     0     373450            8.0500      \n",
       "6 0        3      male   NA  0     0     330877            8.4583      \n",
       "  Embarked\n",
       "1 S       \n",
       "2 C       \n",
       "3 S       \n",
       "4 S       \n",
       "5 S       \n",
       "6 Q       "
      ]
     },
     "metadata": {},
     "output_type": "display_data"
    }
   ],
   "source": [
    "head(titanic)"
   ]
  },
  {
   "cell_type": "code",
   "execution_count": 3,
   "metadata": {
    "deletable": false,
    "editable": false,
    "nbgrader": {
     "checksum": "6db41c02b653c09c55e95c1216098d80",
     "grade": true,
     "grade_id": "cell-3d8ef5edb7cb1dca",
     "locked": true,
     "points": 1,
     "schema_version": 1,
     "solution": false
    }
   },
   "outputs": [],
   "source": [
    "stopifnot(dim(titanic) == c(891,10))"
   ]
  },
  {
   "cell_type": "markdown",
   "metadata": {},
   "source": [
    "#### store the number of passengers\n",
    "\n",
    "Store the number of passengers as the variable `number_of_passengers`."
   ]
  },
  {
   "cell_type": "code",
   "execution_count": 4,
   "metadata": {
    "deletable": false,
    "nbgrader": {
     "checksum": "244655f9edc7a9ce38e4b548cd346b45",
     "grade": false,
     "grade_id": "cell-ee7011b4d32352c8",
     "locked": false,
     "schema_version": 1,
     "solution": true
    }
   },
   "outputs": [],
   "source": [
    "number_of_passengers = NROW(titanic)"
   ]
  },
  {
   "cell_type": "code",
   "execution_count": 5,
   "metadata": {},
   "outputs": [
    {
     "data": {
      "text/html": [
       "891"
      ],
      "text/latex": [
       "891"
      ],
      "text/markdown": [
       "891"
      ],
      "text/plain": [
       "[1] 891"
      ]
     },
     "metadata": {},
     "output_type": "display_data"
    }
   ],
   "source": [
    "number_of_passengers"
   ]
  },
  {
   "cell_type": "code",
   "execution_count": 6,
   "metadata": {
    "deletable": false,
    "editable": false,
    "nbgrader": {
     "checksum": "644c9ed6bf4a9b7e72359dc721a70e6f",
     "grade": true,
     "grade_id": "cell-785aefe13fc12b19",
     "locked": true,
     "points": 1,
     "schema_version": 1,
     "solution": false
    }
   },
   "outputs": [],
   "source": [
    "### HIDDEN TEST"
   ]
  },
  {
   "cell_type": "markdown",
   "metadata": {},
   "source": [
    "For this project, we are going to think of our model as simply the values stored in a vector of predictions. For example, we already have one model, a model called `no_survivors`, which is simply a vector of zeros. To improve upon this model we will use a mask to reduce the number of values we are looking at and then replace these values with a 1. "
   ]
  },
  {
   "cell_type": "code",
   "execution_count": 7,
   "metadata": {},
   "outputs": [],
   "source": [
    "no_survivors <- rep(0, number_of_passengers)"
   ]
  },
  {
   "cell_type": "markdown",
   "metadata": {},
   "source": [
    "### Randomized Model Improvement"
   ]
  },
  {
   "cell_type": "markdown",
   "metadata": {},
   "source": [
    "What if we try to improve our model by simply randomly replacing zeros with one? We can do this using the `sample()` function"
   ]
  },
  {
   "cell_type": "markdown",
   "metadata": {},
   "source": [
    "#### create a random mask"
   ]
  },
  {
   "cell_type": "code",
   "execution_count": 8,
   "metadata": {},
   "outputs": [
    {
     "data": {
      "text/html": [
       "<ol class=list-inline>\n",
       "\t<li>FALSE</li>\n",
       "\t<li>TRUE</li>\n",
       "\t<li>FALSE</li>\n",
       "\t<li>FALSE</li>\n",
       "\t<li>TRUE</li>\n",
       "\t<li>FALSE</li>\n",
       "\t<li>FALSE</li>\n",
       "\t<li>FALSE</li>\n",
       "\t<li>FALSE</li>\n",
       "\t<li>TRUE</li>\n",
       "</ol>\n"
      ],
      "text/latex": [
       "\\begin{enumerate*}\n",
       "\\item FALSE\n",
       "\\item TRUE\n",
       "\\item FALSE\n",
       "\\item FALSE\n",
       "\\item TRUE\n",
       "\\item FALSE\n",
       "\\item FALSE\n",
       "\\item FALSE\n",
       "\\item FALSE\n",
       "\\item TRUE\n",
       "\\end{enumerate*}\n"
      ],
      "text/markdown": [
       "1. FALSE\n",
       "2. TRUE\n",
       "3. FALSE\n",
       "4. FALSE\n",
       "5. TRUE\n",
       "6. FALSE\n",
       "7. FALSE\n",
       "8. FALSE\n",
       "9. FALSE\n",
       "10. TRUE\n",
       "\n",
       "\n"
      ],
      "text/plain": [
       " [1] FALSE  TRUE FALSE FALSE  TRUE FALSE FALSE FALSE FALSE  TRUE"
      ]
     },
     "metadata": {},
     "output_type": "display_data"
    }
   ],
   "source": [
    "random_mask = sample(c(TRUE,FALSE), number_of_passengers, replace = TRUE)\n",
    "random_mask[1:10]"
   ]
  },
  {
   "cell_type": "markdown",
   "metadata": {},
   "source": [
    "#### FREE RESPONSE\n",
    "\n",
    "Describe what the `sample()` function does."
   ]
  },
  {
   "cell_type": "markdown",
   "metadata": {
    "deletable": false,
    "nbgrader": {
     "checksum": "c4bd634aae6333559eed898a6efe9d04",
     "grade": true,
     "grade_id": "cell-d3b79cfdaed1eed9",
     "locked": false,
     "points": 5,
     "schema_version": 1,
     "solution": true
    }
   },
   "source": [
    "Instead of working with data on all 891 passengers, we want to take a random sample to try to improve our model.  The `sample()` function creates a vector the length of the number of passengers (891) and randomly assigns a TRUE or FALSE value to each passenger.  "
   ]
  },
  {
   "cell_type": "markdown",
   "metadata": {},
   "source": [
    "#### FREE RESPONSE\n",
    "\n",
    "Describe the vector `random_mask`"
   ]
  },
  {
   "cell_type": "markdown",
   "metadata": {
    "deletable": false,
    "nbgrader": {
     "checksum": "1bf7048be85d0e05e40ff00969de10ed",
     "grade": true,
     "grade_id": "cell-87cae1e05d33c544",
     "locked": false,
     "points": 5,
     "schema_version": 1,
     "solution": true
    }
   },
   "source": [
    "The vector `random_mask` is the length of the number of passengers (891) with randomly placed TRUE and FALSE so that we could look at the behaviour of the data for randomly chosen passengers."
   ]
  },
  {
   "cell_type": "markdown",
   "metadata": {},
   "source": [
    "#### duplicate and filter to create random model\n",
    "\n",
    "Next, we use the vector `random_mask` to create a new model, `random_model`. "
   ]
  },
  {
   "cell_type": "markdown",
   "metadata": {},
   "source": [
    "First, we use the `rep` function to duplicate the vector `no_survivors`."
   ]
  },
  {
   "cell_type": "code",
   "execution_count": 9,
   "metadata": {},
   "outputs": [],
   "source": [
    "random_model = rep(no_survivors)"
   ]
  },
  {
   "cell_type": "markdown",
   "metadata": {},
   "source": [
    "Then, we use the vector `random_mask` to assign a value of 1 to `random_model` everywhere `random_mask` is `TRUE`."
   ]
  },
  {
   "cell_type": "code",
   "execution_count": 10,
   "metadata": {},
   "outputs": [],
   "source": [
    "random_model[random_mask] = 1"
   ]
  },
  {
   "cell_type": "markdown",
   "metadata": {},
   "source": [
    "#### define accuracy metric\n",
    "\n",
    "Write a function called  `accuracy`. This function should takes two vectors as argument: \n",
    "\n",
    "1. a vector of actual values\n",
    "1. a vector of predicted values \n",
    "\n",
    "The function should do two things:\n",
    "\n",
    "1. it should use `verify_length` to make sure that the vectors have the same length.\n",
    "1. it computes the accuracy of a prediction vector where accuracy is defined by\n",
    "\n",
    "$$\\text{accuracy} = \\sum \\left(\\text{class}_{actual} = \\text{class}_{predicted}\\right)$$"
   ]
  },
  {
   "cell_type": "code",
   "execution_count": 11,
   "metadata": {
    "deletable": false,
    "nbgrader": {
     "checksum": "e6bf92cd57a2208cb29dfdbf7fe9a6a0",
     "grade": false,
     "grade_id": "cell-43c7577507f0ab8b",
     "locked": false,
     "schema_version": 1,
     "solution": true
    }
   },
   "outputs": [],
   "source": [
    "verify_length <- function (v1, v2 ){\n",
    "    if (length(v1) != length(v2)) {\n",
    "        stop('length of vectors do not match') \n",
    "    }\n",
    "}\n",
    "  \n",
    "accuracy <- function (actual, predicted) {\n",
    "    verify_length (actual, predicted) \n",
    "    n = length (actual)\n",
    "    sum (actual == predicted) / n\n",
    "    \n",
    "}"
   ]
  },
  {
   "cell_type": "markdown",
   "metadata": {},
   "source": [
    "#### assess accuracy of random model"
   ]
  },
  {
   "cell_type": "code",
   "execution_count": 12,
   "metadata": {
    "deletable": false,
    "editable": false,
    "nbgrader": {
     "checksum": "fa6bcaee77277fbac4f1e8b2a5b6dbbe",
     "grade": true,
     "grade_id": "cell-2bb73cf04b955e13",
     "locked": true,
     "points": 1,
     "schema_version": 1,
     "solution": false
    }
   },
   "outputs": [
    {
     "data": {
      "text/html": [
       "0.516273849607183"
      ],
      "text/latex": [
       "0.516273849607183"
      ],
      "text/markdown": [
       "0.516273849607183"
      ],
      "text/plain": [
       "[1] 0.5162738"
      ]
     },
     "metadata": {},
     "output_type": "display_data"
    }
   ],
   "source": [
    "accuracy(titanic$Survived, random_model)"
   ]
  },
  {
   "cell_type": "markdown",
   "metadata": {},
   "source": [
    "As suspected, simply guessing is not better than guessing all zeros. It looks like we might actually justify our exorbitant salaries after all."
   ]
  },
  {
   "cell_type": "markdown",
   "metadata": {},
   "source": [
    "#### Use Proportion Tables To Look At Survival By Feature"
   ]
  },
  {
   "cell_type": "markdown",
   "metadata": {},
   "source": [
    "Previously, we use a proportion table to look at a single feature, `Survived`. Next, We will use a proportion table to look at how two features interact with each other. Let's look at the structure of the dataframe again to remind ourselves which features we have available to us."
   ]
  },
  {
   "cell_type": "markdown",
   "metadata": {},
   "source": [
    "#### display the structure of the dataframe"
   ]
  },
  {
   "cell_type": "code",
   "execution_count": 13,
   "metadata": {},
   "outputs": [
    {
     "name": "stdout",
     "output_type": "stream",
     "text": [
      "'data.frame':\t891 obs. of  10 variables:\n",
      " $ Survived: int  0 1 1 1 0 0 0 0 1 1 ...\n",
      " $ Pclass  : int  3 1 3 1 3 3 1 3 3 2 ...\n",
      " $ Sex     : Factor w/ 2 levels \"female\",\"male\": 2 1 1 1 2 2 2 2 1 1 ...\n",
      " $ Age     : num  22 38 26 35 35 NA 54 2 27 14 ...\n",
      " $ SibSp   : int  1 1 0 1 0 0 0 3 0 1 ...\n",
      " $ Parch   : int  0 0 0 0 0 0 0 1 2 0 ...\n",
      " $ Ticket  : Factor w/ 681 levels \"110152\",\"110413\",..: 524 597 670 50 473 276 86 396 345 133 ...\n",
      " $ Fare    : num  7.25 71.28 7.92 53.1 8.05 ...\n",
      " $ Cabin   : Factor w/ 148 levels \"\",\"A10\",\"A14\",..: 1 83 1 57 1 1 131 1 1 1 ...\n",
      " $ Embarked: Factor w/ 4 levels \"\",\"C\",\"Q\",\"S\": 4 2 4 4 4 3 4 4 4 2 ...\n"
     ]
    }
   ],
   "source": [
    "str(titanic)"
   ]
  },
  {
   "cell_type": "markdown",
   "metadata": {},
   "source": [
    "First, we look at the proportions of `Pclass` and `Survived`. There are three different ways we can look at a proportion table. \n",
    "\n",
    "1. The values of each combination as a proportion of the whole\n",
    "1. The values in each row as a proportion of that row\n",
    "1. The values in each column as a proportion of that column"
   ]
  },
  {
   "cell_type": "markdown",
   "metadata": {},
   "source": [
    "#### whole proportions of `Pclass` versus `Survived`\n",
    "\n",
    "Here, the entire table sums to 1."
   ]
  },
  {
   "cell_type": "code",
   "execution_count": 14,
   "metadata": {},
   "outputs": [
    {
     "data": {
      "text/plain": [
       "   \n",
       "             0          1\n",
       "  1 0.08978676 0.15263749\n",
       "  2 0.10886644 0.09764310\n",
       "  3 0.41750842 0.13355780"
      ]
     },
     "metadata": {},
     "output_type": "display_data"
    }
   ],
   "source": [
    "prop.table(table(titanic$Pclass, titanic$Survived))"
   ]
  },
  {
   "cell_type": "markdown",
   "metadata": {},
   "source": [
    "#### proportions of `Pclass` versus `Survived` by row\n",
    "\n",
    "Here, each row sums to 1."
   ]
  },
  {
   "cell_type": "code",
   "execution_count": 15,
   "metadata": {},
   "outputs": [
    {
     "data": {
      "text/plain": [
       "   \n",
       "            0         1\n",
       "  1 0.3703704 0.6296296\n",
       "  2 0.5271739 0.4728261\n",
       "  3 0.7576375 0.2423625"
      ]
     },
     "metadata": {},
     "output_type": "display_data"
    }
   ],
   "source": [
    "prop.table(table(titanic$Pclass, titanic$Survived), 1)"
   ]
  },
  {
   "cell_type": "markdown",
   "metadata": {},
   "source": [
    "####  proportions of `Pclass` versus `Survived` by column \n",
    "\n",
    "Here, each column sums to 1."
   ]
  },
  {
   "cell_type": "code",
   "execution_count": 16,
   "metadata": {},
   "outputs": [
    {
     "data": {
      "text/plain": [
       "   \n",
       "            0         1\n",
       "  1 0.1457195 0.3976608\n",
       "  2 0.1766849 0.2543860\n",
       "  3 0.6775956 0.3479532"
      ]
     },
     "metadata": {},
     "output_type": "display_data"
    }
   ],
   "source": [
    "prop.table(table(titanic$Pclass, titanic$Survived), 2)"
   ]
  },
  {
   "cell_type": "markdown",
   "metadata": {},
   "source": [
    "#### whole proportions of `Sex` versus `Survived`\n",
    "\n",
    "Define a variable `whole_prop_table_sex_versus_survived` that is a whole table proportion table of `Sex` versus `Survived."
   ]
  },
  {
   "cell_type": "code",
   "execution_count": 17,
   "metadata": {
    "deletable": false,
    "nbgrader": {
     "checksum": "d199db517253790e4b4c476a14112f03",
     "grade": false,
     "grade_id": "cell-caea33e4f32ceed5",
     "locked": false,
     "schema_version": 1,
     "solution": true
    }
   },
   "outputs": [],
   "source": [
    "whole_table_prop_table_sex_versus_survived = prop.table(table(titanic$Sex, titanic$Survived))"
   ]
  },
  {
   "cell_type": "code",
   "execution_count": 18,
   "metadata": {
    "deletable": false,
    "editable": false,
    "nbgrader": {
     "checksum": "94f2f20281e0516b6c7d46e1f94d9a3e",
     "grade": true,
     "grade_id": "cell-adf31e8331f32ff7",
     "locked": true,
     "points": 3,
     "schema_version": 1,
     "solution": false
    }
   },
   "outputs": [
    {
     "data": {
      "text/plain": [
       "        \n",
       "                  0          1\n",
       "  female 0.09090909 0.26150393\n",
       "  male   0.52525253 0.12233446"
      ]
     },
     "metadata": {},
     "output_type": "display_data"
    }
   ],
   "source": [
    "whole_table_prop_table_sex_versus_survived\n",
    "stopifnot(round(as.vector(whole_table_prop_table_sex_versus_survived) ,2) == c(0.09, 0.53, 0.26, 0.12))"
   ]
  },
  {
   "cell_type": "markdown",
   "metadata": {},
   "source": [
    "#### proportions of `Sex` versus `Survived` by row\n",
    "\n",
    "Define a variable `row_prop_table_sex_versus_survived` that is a row proportion table of `Sex` versus `Survived."
   ]
  },
  {
   "cell_type": "code",
   "execution_count": 19,
   "metadata": {
    "deletable": false,
    "nbgrader": {
     "checksum": "69b43fa6d5474be363e192a73855b2ed",
     "grade": false,
     "grade_id": "cell-6516e9459ea90e68",
     "locked": false,
     "schema_version": 1,
     "solution": true
    }
   },
   "outputs": [],
   "source": [
    "row_prop_table_sex_versus_survived = prop.table(table(titanic$Sex, titanic$Survived), 1)"
   ]
  },
  {
   "cell_type": "code",
   "execution_count": 20,
   "metadata": {
    "deletable": false,
    "editable": false,
    "nbgrader": {
     "checksum": "fe6517a3a4ffcc0b7857161589670a69",
     "grade": true,
     "grade_id": "cell-9489255bc84bb6fa",
     "locked": true,
     "points": 3,
     "schema_version": 1,
     "solution": false
    }
   },
   "outputs": [
    {
     "data": {
      "text/plain": [
       "        \n",
       "                 0         1\n",
       "  female 0.2579618 0.7420382\n",
       "  male   0.8110919 0.1889081"
      ]
     },
     "metadata": {},
     "output_type": "display_data"
    }
   ],
   "source": [
    "row_prop_table_sex_versus_survived\n",
    "stopifnot(round(as.vector(row_prop_table_sex_versus_survived) ,2) == c(0.26, 0.81, 0.74, 0.19))"
   ]
  },
  {
   "cell_type": "markdown",
   "metadata": {},
   "source": [
    "####  proportions of `Sex` versus `Survived` by column \n",
    "\n",
    "Define a variable `column_prop_table_sex_versus_survived` that is a column proportion table of `Sex` versus `Survived."
   ]
  },
  {
   "cell_type": "code",
   "execution_count": 21,
   "metadata": {
    "deletable": false,
    "nbgrader": {
     "checksum": "063420df02367b19e935f65dcc4d0a00",
     "grade": false,
     "grade_id": "cell-1751fb2700f6404c",
     "locked": false,
     "schema_version": 1,
     "solution": true
    }
   },
   "outputs": [],
   "source": [
    "column_prop_table_sex_versus_survived = prop.table(table(titanic$Sex, titanic$Survived), 2)"
   ]
  },
  {
   "cell_type": "code",
   "execution_count": 22,
   "metadata": {
    "deletable": false,
    "editable": false,
    "nbgrader": {
     "checksum": "504dcee7ef095e46e59e2f280b5acb52",
     "grade": true,
     "grade_id": "cell-375a89e4156a9be4",
     "locked": true,
     "points": 0,
     "schema_version": 1,
     "solution": false
    }
   },
   "outputs": [
    {
     "data": {
      "text/plain": [
       "        \n",
       "                 0         1\n",
       "  female 0.1475410 0.6812865\n",
       "  male   0.8524590 0.3187135"
      ]
     },
     "metadata": {},
     "output_type": "display_data"
    }
   ],
   "source": [
    "column_prop_table_sex_versus_survived\n",
    "stopifnot(round(as.vector(column_prop_table_sex_versus_survived) ,2) == c(0.15, 0.85, 0.68, 0.32))"
   ]
  },
  {
   "cell_type": "markdown",
   "metadata": {},
   "source": [
    "#### FREE RESPONSE: Analyze Proportion Tables\n",
    "\n",
    "Using the results obtained about prepare an analysis of How these two features can be used to predict whether or not someone survived the sinking of the Titanic."
   ]
  },
  {
   "cell_type": "markdown",
   "metadata": {
    "deletable": false,
    "nbgrader": {
     "checksum": "1a3b694f33c2c6845878b964a7dfe06d",
     "grade": true,
     "grade_id": "cell-0c085b177d82fb71",
     "locked": false,
     "points": 5,
     "schema_version": 1,
     "solution": true
    }
   },
   "source": [
    "~ OBSERVATIONS:\n",
    "\n",
    "Those that did not survive are more likely to be in 3rd class:\n",
    " * 68% of those that died were in 3rd class.\n",
    " * 75% of those that were in 3rd class died, whereas 63% of the 1st class passengers survived.\n",
    " * 2nd class passengers were almost as likely to survive as they were to die. (52% of the 2nd class passengers died)\n",
    " \n",
    "Women were more likely to survive than men:\n",
    " * 74% of women survived, whereas 81% of men died.\n",
    " * Of those that died, 85% were men and only 15% were women.\n",
    " \n",
    "Because of what we could observe from the existing data, we could likely predict whether or not someone survived the Titanic based on either their passenger class or gender or both."
   ]
  },
  {
   "cell_type": "markdown",
   "metadata": {},
   "source": [
    "### Targeted Model Improvement\n",
    "\n",
    "We saw that randomly selecting values to be replaced by one did not improve our model. What if we use some more intelligent way to select values that should be replaced by a one in our vector of predictions? We just looked at two features and identified some patterns that showed it would be more likely to have survived the sinking of the ship. Based upon this work we might decide that it would be a better model to replace the prediction for all female passengers with a 1. We can do that using masks and filters."
   ]
  },
  {
   "cell_type": "markdown",
   "metadata": {},
   "source": [
    "#### create a mask of just women\n",
    "\n",
    "Create a vector mask, `women_mask` which contains the boolean values associated with whether or not the value of the `Sex` column is the string `'female'`."
   ]
  },
  {
   "cell_type": "code",
   "execution_count": 23,
   "metadata": {
    "deletable": false,
    "nbgrader": {
     "checksum": "dab078558d6c8d2f504fe7a05337fe74",
     "grade": false,
     "grade_id": "cell-b261358a56d36819",
     "locked": false,
     "schema_version": 1,
     "solution": true
    }
   },
   "outputs": [],
   "source": [
    "women_mask = titanic$Sex == \"female\""
   ]
  },
  {
   "cell_type": "code",
   "execution_count": 24,
   "metadata": {
    "deletable": false,
    "editable": false,
    "nbgrader": {
     "checksum": "a328d33b3b8c013fd046fef43c6c8ee8",
     "grade": true,
     "grade_id": "cell-0e06241c1a741694",
     "locked": true,
     "points": 4,
     "schema_version": 1,
     "solution": false
    }
   },
   "outputs": [],
   "source": [
    "stopifnot(women_mask[1:10] == c(FALSE, TRUE, TRUE, TRUE, FALSE, FALSE, FALSE, FALSE, TRUE, TRUE))"
   ]
  },
  {
   "cell_type": "markdown",
   "metadata": {},
   "source": [
    "#### duplicate the vector `no_survivors`\n",
    "\n",
    "Duplicate the vector `no_survivors` and store as the variable `women_survived`.\n"
   ]
  },
  {
   "cell_type": "code",
   "execution_count": 25,
   "metadata": {
    "deletable": false,
    "nbgrader": {
     "checksum": "54b0e592ad897289dcb71ee4e17a3cfb",
     "grade": false,
     "grade_id": "cell-7f91397bb4a06b71",
     "locked": false,
     "schema_version": 1,
     "solution": true
    }
   },
   "outputs": [],
   "source": [
    "women_survived = no_survivors"
   ]
  },
  {
   "cell_type": "markdown",
   "metadata": {},
   "source": [
    "#### filter to create a model, `women_survived`\n",
    "\n",
    "Use the vector `women_mask` to assign values of 1 to the vector `women_survived`."
   ]
  },
  {
   "cell_type": "code",
   "execution_count": 26,
   "metadata": {
    "deletable": false,
    "nbgrader": {
     "checksum": "5f832ef78e5948347b45bed2399e8baa",
     "grade": false,
     "grade_id": "cell-8ef8b39f6d6b382e",
     "locked": false,
     "schema_version": 1,
     "solution": true
    }
   },
   "outputs": [],
   "source": [
    "women_survived = women_mask"
   ]
  },
  {
   "cell_type": "markdown",
   "metadata": {},
   "source": [
    "#### assess accuracy of  model, `women_survived`"
   ]
  },
  {
   "cell_type": "code",
   "execution_count": 27,
   "metadata": {
    "deletable": false,
    "editable": false,
    "nbgrader": {
     "checksum": "e84d8fa9e45040293f18ae2af9d81c4c",
     "grade": true,
     "grade_id": "cell-4dd1e83278f2620d",
     "locked": true,
     "points": 6,
     "schema_version": 1,
     "solution": false
    }
   },
   "outputs": [
    {
     "data": {
      "text/html": [
       "0.78675645342312"
      ],
      "text/latex": [
       "0.78675645342312"
      ],
      "text/markdown": [
       "0.78675645342312"
      ],
      "text/plain": [
       "[1] 0.7867565"
      ]
     },
     "metadata": {},
     "output_type": "display_data"
    }
   ],
   "source": [
    "accuracy(titanic$Survived, women_survived)\n",
    "stopifnot(round(accuracy(titanic$Survived, women_survived), 4) == 0.7868)"
   ]
  },
  {
   "cell_type": "markdown",
   "metadata": {},
   "source": [
    "#### FREE RESPONSE: Explaining Creation Of Prediction Vector\n",
    "\n",
    "Explain in your own words the process by which the prediction vector, `women_survived` was created."
   ]
  },
  {
   "cell_type": "markdown",
   "metadata": {
    "deletable": false,
    "nbgrader": {
     "checksum": "38f861801380845062bc141eb6285edb",
     "grade": true,
     "grade_id": "cell-2c4065aa12a3b3ec",
     "locked": false,
     "points": 5,
     "schema_version": 1,
     "solution": true
    }
   },
   "source": [
    "Ultimately we want to create a prediction where all women survived.  To do this:\n",
    "* First, create a vector the same length as the number of passengers called `women_mask` where all women are assigned a TRUE and men were assigned FALSE.\n",
    "* To create a vector called `women_survived`, we then assume all women did not survive by copying the results from `no_survivors` to `women_survived`.  \n",
    "* We then update the `women_survived` vector so that all women are assigned TRUE, representing that they did survive.  In other words, if the value is TRUE in `women_mask` (or if the passenger was a woman), then update the value (whether the passenger survived) to TRUE."
   ]
  },
  {
   "cell_type": "markdown",
   "metadata": {},
   "source": [
    "### Can Another Feature Help?"
   ]
  },
  {
   "cell_type": "markdown",
   "metadata": {},
   "source": [
    "Here, we display a three-way proportion table using `Survived`, `Pclass`, and `Sex`."
   ]
  },
  {
   "cell_type": "code",
   "execution_count": 28,
   "metadata": {},
   "outputs": [
    {
     "data": {
      "text/plain": [
       ", ,  = female\n",
       "\n",
       "   \n",
       "              1           2           3\n",
       "  0 0.003367003 0.006734007 0.080808081\n",
       "  1 0.102132435 0.078563412 0.080808081\n",
       "\n",
       ", ,  = male\n",
       "\n",
       "   \n",
       "              1           2           3\n",
       "  0 0.086419753 0.102132435 0.336700337\n",
       "  1 0.050505051 0.019079686 0.052749719\n"
      ]
     },
     "metadata": {},
     "output_type": "display_data"
    }
   ],
   "source": [
    "prop.table(table(titanic$Survived, titanic$Pclass, titanic$Sex))"
   ]
  },
  {
   "cell_type": "markdown",
   "metadata": {},
   "source": [
    "#### create a mask of just first class\n",
    "\n",
    "Create a vector mask, `first_class_mask` which contains the boolean values associated with whether or not the value of the `Pclass` column is the string integer 1."
   ]
  },
  {
   "cell_type": "code",
   "execution_count": 29,
   "metadata": {
    "deletable": false,
    "nbgrader": {
     "checksum": "fe56020f63eae6ebdc9fdf07a74de09d",
     "grade": false,
     "grade_id": "cell-d61de014f684fd05",
     "locked": false,
     "schema_version": 1,
     "solution": true
    }
   },
   "outputs": [
    {
     "data": {
      "text/html": [
       "<ol class=list-inline>\n",
       "\t<li>3</li>\n",
       "\t<li>1</li>\n",
       "\t<li>3</li>\n",
       "\t<li>1</li>\n",
       "\t<li>3</li>\n",
       "\t<li>3</li>\n",
       "</ol>\n"
      ],
      "text/latex": [
       "\\begin{enumerate*}\n",
       "\\item 3\n",
       "\\item 1\n",
       "\\item 3\n",
       "\\item 1\n",
       "\\item 3\n",
       "\\item 3\n",
       "\\end{enumerate*}\n"
      ],
      "text/markdown": [
       "1. 3\n",
       "2. 1\n",
       "3. 3\n",
       "4. 1\n",
       "5. 3\n",
       "6. 3\n",
       "\n",
       "\n"
      ],
      "text/plain": [
       "[1] 3 1 3 1 3 3"
      ]
     },
     "metadata": {},
     "output_type": "display_data"
    },
    {
     "data": {
      "text/html": [
       "<ol class=list-inline>\n",
       "\t<li>FALSE</li>\n",
       "\t<li>TRUE</li>\n",
       "\t<li>FALSE</li>\n",
       "\t<li>TRUE</li>\n",
       "\t<li>FALSE</li>\n",
       "\t<li>FALSE</li>\n",
       "</ol>\n"
      ],
      "text/latex": [
       "\\begin{enumerate*}\n",
       "\\item FALSE\n",
       "\\item TRUE\n",
       "\\item FALSE\n",
       "\\item TRUE\n",
       "\\item FALSE\n",
       "\\item FALSE\n",
       "\\end{enumerate*}\n"
      ],
      "text/markdown": [
       "1. FALSE\n",
       "2. TRUE\n",
       "3. FALSE\n",
       "4. TRUE\n",
       "5. FALSE\n",
       "6. FALSE\n",
       "\n",
       "\n"
      ],
      "text/plain": [
       "[1] FALSE  TRUE FALSE  TRUE FALSE FALSE"
      ]
     },
     "metadata": {},
     "output_type": "display_data"
    }
   ],
   "source": [
    "first_class_mask = titanic$Pclass == 1\n",
    "head(titanic$Pclass)\n",
    "head(first_class_mask)"
   ]
  },
  {
   "cell_type": "markdown",
   "metadata": {},
   "source": [
    "#### duplicate the vector `women_survived`\n",
    "\n",
    "Duplicate the vector `women_survived` and store as the variable `women_and_first_class_survived`.\n",
    "\n"
   ]
  },
  {
   "cell_type": "code",
   "execution_count": 30,
   "metadata": {
    "deletable": false,
    "nbgrader": {
     "checksum": "4b76afac08031cc2ca041a83972785e2",
     "grade": false,
     "grade_id": "cell-bf35ff7c090b4f6b",
     "locked": false,
     "schema_version": 1,
     "solution": true
    }
   },
   "outputs": [],
   "source": [
    "women_and_first_class_survived = women_survived"
   ]
  },
  {
   "cell_type": "markdown",
   "metadata": {},
   "source": [
    "#### filter to create a model, `women_and_first_class_survived`\n",
    "\n",
    "Use the vector `first_class_mask` to assign values of 1 to the vector `women_and_first_class_survived` for each person in first class."
   ]
  },
  {
   "cell_type": "code",
   "execution_count": 31,
   "metadata": {
    "deletable": false,
    "nbgrader": {
     "checksum": "8fe9f484c066484fcc827debf81d3e37",
     "grade": false,
     "grade_id": "cell-499fc5694eec6070",
     "locked": false,
     "schema_version": 1,
     "solution": true
    }
   },
   "outputs": [],
   "source": [
    "women_and_first_class_survived = first_class_mask | women_survived"
   ]
  },
  {
   "cell_type": "markdown",
   "metadata": {},
   "source": [
    "#### assess accuracy of  model, `women_and_first_class_survived`"
   ]
  },
  {
   "cell_type": "code",
   "execution_count": 32,
   "metadata": {
    "deletable": false,
    "editable": false,
    "nbgrader": {
     "checksum": "413e986220e92e2b216dfcff9eb30ff4",
     "grade": true,
     "grade_id": "cell-3d3d2dfdea0308ed",
     "locked": true,
     "points": 10,
     "schema_version": 1,
     "solution": false
    }
   },
   "outputs": [
    {
     "data": {
      "text/html": [
       "0.750841750841751"
      ],
      "text/latex": [
       "0.750841750841751"
      ],
      "text/markdown": [
       "0.750841750841751"
      ],
      "text/plain": [
       "[1] 0.7508418"
      ]
     },
     "metadata": {},
     "output_type": "display_data"
    }
   ],
   "source": [
    "accuracy(titanic$Survived, women_and_first_class_survived)\n",
    "stopifnot(round(accuracy(titanic$Survived, women_and_first_class_survived), 4) == 0.7508)"
   ]
  },
  {
   "cell_type": "markdown",
   "metadata": {},
   "source": [
    "#### Progress Report\n",
    "\n",
    "Run these two cells to display a progress report of the four models you created. "
   ]
  },
  {
   "cell_type": "code",
   "execution_count": 33,
   "metadata": {},
   "outputs": [],
   "source": [
    "scores = c(accuracy(titanic$Survived, no_survivors),\n",
    "           accuracy(titanic$Survived, random_model),\n",
    "           accuracy(titanic$Survived, women_survived),\n",
    "           accuracy(titanic$Survived, women_and_first_class_survived))"
   ]
  },
  {
   "cell_type": "code",
   "execution_count": 34,
   "metadata": {},
   "outputs": [],
   "source": [
    "library(repr)\n",
    "options(repr.plot.width=10, repr.plot.height=4)"
   ]
  },
  {
   "cell_type": "code",
   "execution_count": 35,
   "metadata": {},
   "outputs": [
    {
     "data": {
      "image/png": "[encoded data removed]",
      "text/plain": [
       "plot without title"
      ]
     },
     "metadata": {},
     "output_type": "display_data"
    }
   ],
   "source": [
    "barplot(scores, xlab = 'model', \n",
    "        names.arg = c('none','rand','women', 'women+1stclass'))\n",
    "abline(h = max(scores))"
   ]
  },
  {
   "cell_type": "markdown",
   "metadata": {},
   "source": [
    "# Checking survival by other variables ~ just for fun!"
   ]
  },
  {
   "cell_type": "markdown",
   "metadata": {},
   "source": [
    "Other variables to possibly check:\n",
    "\n",
    "* Age\n",
    "* Sibsp - Number of Siblings/Spouses Aboard\n",
    "* Parch - Number of Parents/Children Aboard"
   ]
  },
  {
   "cell_type": "markdown",
   "metadata": {},
   "source": [
    "## Checking survival by age"
   ]
  },
  {
   "cell_type": "markdown",
   "metadata": {},
   "source": [
    "####  Create a new data set that excludes passengers where the Age is unknown."
   ]
  },
  {
   "cell_type": "code",
   "execution_count": 36,
   "metadata": {
    "scrolled": true
   },
   "outputs": [],
   "source": [
    "passengers_with_age = subset(titanic, Age >= 0)"
   ]
  },
  {
   "cell_type": "code",
   "execution_count": 37,
   "metadata": {},
   "outputs": [
    {
     "name": "stdout",
     "output_type": "stream",
     "text": [
      " The total number of passengers: 891 \n",
      " The number of passengers where the age is known: 714 \n",
      " \n",
      "Age:"
     ]
    },
    {
     "data": {
      "text/plain": [
       "   Min. 1st Qu.  Median    Mean 3rd Qu.    Max.    NA's \n",
       "   0.42   20.12   28.00   29.70   38.00   80.00     177 "
      ]
     },
     "metadata": {},
     "output_type": "display_data"
    }
   ],
   "source": [
    "cat(\" The total number of passengers:\", NROW(titanic),\"\\n\",\n",
    "    \"The number of passengers where the age is known:\", NROW(passengers_with_age), \"\\n\",\"\\n\")\n",
    "\n",
    "cat(\"Age:\")\n",
    "summary(titanic$Age)"
   ]
  },
  {
   "cell_type": "markdown",
   "metadata": {},
   "source": [
    "#### Create a function that masks by age, filters out the passengers that do not meet the desired age limit, and then checks the prediction."
   ]
  },
  {
   "cell_type": "code",
   "execution_count": 38,
   "metadata": {},
   "outputs": [],
   "source": [
    "age_accuracy_function = function(age){\n",
    "    age_mask = passengers_with_age$Age < age\n",
    "    age_survived = rep(0, NROW(passengers_with_age))\n",
    "    age_survived = age_mask\n",
    "    cat(\"Age: \")\n",
    "    print(age)\n",
    "    accuracy(passengers_with_age$Survived, age_mask)\n",
    "}"
   ]
  },
  {
   "cell_type": "markdown",
   "metadata": {},
   "source": [
    "#### Check the predictions by age."
   ]
  },
  {
   "cell_type": "code",
   "execution_count": 39,
   "metadata": {},
   "outputs": [
    {
     "name": "stdout",
     "output_type": "stream",
     "text": [
      "Age: [1] 0\n"
     ]
    },
    {
     "data": {
      "text/html": [
       "0.593837535014006"
      ],
      "text/latex": [
       "0.593837535014006"
      ],
      "text/markdown": [
       "0.593837535014006"
      ],
      "text/plain": [
       "[1] 0.5938375"
      ]
     },
     "metadata": {},
     "output_type": "display_data"
    },
    {
     "name": "stdout",
     "output_type": "stream",
     "text": [
      "Age: [1] 1\n"
     ]
    },
    {
     "data": {
      "text/html": [
       "0.603641456582633"
      ],
      "text/latex": [
       "0.603641456582633"
      ],
      "text/markdown": [
       "0.603641456582633"
      ],
      "text/plain": [
       "[1] 0.6036415"
      ]
     },
     "metadata": {},
     "output_type": "display_data"
    },
    {
     "name": "stdout",
     "output_type": "stream",
     "text": [
      "Age: [1] 2\n"
     ]
    },
    {
     "data": {
      "text/html": [
       "0.607843137254902"
      ],
      "text/latex": [
       "0.607843137254902"
      ],
      "text/markdown": [
       "0.607843137254902"
      ],
      "text/plain": [
       "[1] 0.6078431"
      ]
     },
     "metadata": {},
     "output_type": "display_data"
    },
    {
     "name": "stdout",
     "output_type": "stream",
     "text": [
      "Age: [1] 3\n"
     ]
    },
    {
     "data": {
      "text/html": [
       "0.602240896358543"
      ],
      "text/latex": [
       "0.602240896358543"
      ],
      "text/markdown": [
       "0.602240896358543"
      ],
      "text/plain": [
       "[1] 0.6022409"
      ]
     },
     "metadata": {},
     "output_type": "display_data"
    },
    {
     "name": "stdout",
     "output_type": "stream",
     "text": [
      "Age: [1] 4\n"
     ]
    },
    {
     "data": {
      "text/html": [
       "0.607843137254902"
      ],
      "text/latex": [
       "0.607843137254902"
      ],
      "text/markdown": [
       "0.607843137254902"
      ],
      "text/plain": [
       "[1] 0.6078431"
      ]
     },
     "metadata": {},
     "output_type": "display_data"
    },
    {
     "name": "stdout",
     "output_type": "stream",
     "text": [
      "Age: [1] 5\n"
     ]
    },
    {
     "data": {
      "text/html": [
       "0.613445378151261"
      ],
      "text/latex": [
       "0.613445378151261"
      ],
      "text/markdown": [
       "0.613445378151261"
      ],
      "text/plain": [
       "[1] 0.6134454"
      ]
     },
     "metadata": {},
     "output_type": "display_data"
    },
    {
     "name": "stdout",
     "output_type": "stream",
     "text": [
      "Age: [1] 8\n"
     ]
    },
    {
     "data": {
      "text/html": [
       "0.619047619047619"
      ],
      "text/latex": [
       "0.619047619047619"
      ],
      "text/markdown": [
       "0.619047619047619"
      ],
      "text/plain": [
       "[1] 0.6190476"
      ]
     },
     "metadata": {},
     "output_type": "display_data"
    },
    {
     "name": "stdout",
     "output_type": "stream",
     "text": [
      "Age: [1] 10\n"
     ]
    },
    {
     "data": {
      "text/html": [
       "0.613445378151261"
      ],
      "text/latex": [
       "0.613445378151261"
      ],
      "text/markdown": [
       "0.613445378151261"
      ],
      "text/plain": [
       "[1] 0.6134454"
      ]
     },
     "metadata": {},
     "output_type": "display_data"
    },
    {
     "name": "stdout",
     "output_type": "stream",
     "text": [
      "Age: [1] 11\n"
     ]
    },
    {
     "data": {
      "text/html": [
       "0.610644257703081"
      ],
      "text/latex": [
       "0.610644257703081"
      ],
      "text/markdown": [
       "0.610644257703081"
      ],
      "text/plain": [
       "[1] 0.6106443"
      ]
     },
     "metadata": {},
     "output_type": "display_data"
    },
    {
     "name": "stdout",
     "output_type": "stream",
     "text": [
      "Age: [1] 12\n"
     ]
    },
    {
     "data": {
      "text/html": [
       "0.607843137254902"
      ],
      "text/latex": [
       "0.607843137254902"
      ],
      "text/markdown": [
       "0.607843137254902"
      ],
      "text/plain": [
       "[1] 0.6078431"
      ]
     },
     "metadata": {},
     "output_type": "display_data"
    },
    {
     "name": "stdout",
     "output_type": "stream",
     "text": [
      "Age: [1] 18\n"
     ]
    },
    {
     "data": {
      "text/html": [
       "0.606442577030812"
      ],
      "text/latex": [
       "0.606442577030812"
      ],
      "text/markdown": [
       "0.606442577030812"
      ],
      "text/plain": [
       "[1] 0.6064426"
      ]
     },
     "metadata": {},
     "output_type": "display_data"
    },
    {
     "name": "stdout",
     "output_type": "stream",
     "text": [
      "Age: [1] 25\n"
     ]
    },
    {
     "data": {
      "text/html": [
       "0.535014005602241"
      ],
      "text/latex": [
       "0.535014005602241"
      ],
      "text/markdown": [
       "0.535014005602241"
      ],
      "text/plain": [
       "[1] 0.535014"
      ]
     },
     "metadata": {},
     "output_type": "display_data"
    },
    {
     "name": "stdout",
     "output_type": "stream",
     "text": [
      "Age: [1] 40\n"
     ]
    },
    {
     "data": {
      "text/html": [
       "0.463585434173669"
      ],
      "text/latex": [
       "0.463585434173669"
      ],
      "text/markdown": [
       "0.463585434173669"
      ],
      "text/plain": [
       "[1] 0.4635854"
      ]
     },
     "metadata": {},
     "output_type": "display_data"
    },
    {
     "name": "stdout",
     "output_type": "stream",
     "text": [
      "Age: [1] 65\n"
     ]
    },
    {
     "data": {
      "text/html": [
       "0.418767507002801"
      ],
      "text/latex": [
       "0.418767507002801"
      ],
      "text/markdown": [
       "0.418767507002801"
      ],
      "text/plain": [
       "[1] 0.4187675"
      ]
     },
     "metadata": {},
     "output_type": "display_data"
    }
   ],
   "source": [
    "age_accuracy_function(0)\n",
    "age_accuracy_function(1)\n",
    "age_accuracy_function(2)\n",
    "age_accuracy_function(3)\n",
    "age_accuracy_function(4)\n",
    "age_accuracy_function(5)\n",
    "age_accuracy_function(8)\n",
    "age_accuracy_function(10)\n",
    "age_accuracy_function(11)\n",
    "age_accuracy_function(12)\n",
    "age_accuracy_function(18)\n",
    "age_accuracy_function(25)\n",
    "age_accuracy_function(40)\n",
    "age_accuracy_function(65)"
   ]
  },
  {
   "cell_type": "markdown",
   "metadata": {},
   "source": [
    "### Checking survival by number of siblings/spouses aboard"
   ]
  },
  {
   "cell_type": "code",
   "execution_count": 40,
   "metadata": {},
   "outputs": [
    {
     "name": "stdout",
     "output_type": "stream",
     "text": [
      "Number of Siblings/Spouses Aboard (all passengers):"
     ]
    },
    {
     "data": {
      "text/plain": [
       "   Min. 1st Qu.  Median    Mean 3rd Qu.    Max. \n",
       "  0.000   0.000   0.000   0.523   1.000   8.000 "
      ]
     },
     "metadata": {},
     "output_type": "display_data"
    },
    {
     "name": "stdout",
     "output_type": "stream",
     "text": [
      "Number of Siblings/Spouses Aboard (passengers with known age):"
     ]
    },
    {
     "data": {
      "text/plain": [
       "   Min. 1st Qu.  Median    Mean 3rd Qu.    Max. \n",
       " 0.0000  0.0000  0.0000  0.5126  1.0000  5.0000 "
      ]
     },
     "metadata": {},
     "output_type": "display_data"
    }
   ],
   "source": [
    "cat(\"Number of Siblings/Spouses Aboard (all passengers):\")\n",
    "summary(titanic$SibSp)\n",
    "cat(\"Number of Siblings/Spouses Aboard (passengers with known age):\")\n",
    "summary(passengers_with_age$SibSp)"
   ]
  },
  {
   "cell_type": "code",
   "execution_count": 41,
   "metadata": {},
   "outputs": [
    {
     "data": {
      "text/html": [
       "0.632996632996633"
      ],
      "text/latex": [
       "0.632996632996633"
      ],
      "text/markdown": [
       "0.632996632996633"
      ],
      "text/plain": [
       "[1] 0.6329966"
      ]
     },
     "metadata": {},
     "output_type": "display_data"
    }
   ],
   "source": [
    "sibling_mask = titanic$SibSp == 1\n",
    "sibling_survived = rep(0, NROW(titanic))\n",
    "sibling_survived = sibling_mask\n",
    "accuracy(titanic$Survived, sibling_mask)"
   ]
  },
  {
   "cell_type": "markdown",
   "metadata": {},
   "source": [
    "### Checking survival by number of parents/children aboard"
   ]
  },
  {
   "cell_type": "code",
   "execution_count": 42,
   "metadata": {},
   "outputs": [
    {
     "name": "stdout",
     "output_type": "stream",
     "text": [
      "Number of Parents/Children Aboard (all passengers):"
     ]
    },
    {
     "data": {
      "text/plain": [
       "   Min. 1st Qu.  Median    Mean 3rd Qu.    Max. \n",
       " 0.0000  0.0000  0.0000  0.3816  0.0000  6.0000 "
      ]
     },
     "metadata": {},
     "output_type": "display_data"
    },
    {
     "name": "stdout",
     "output_type": "stream",
     "text": [
      "Number of Parents/Children Aboard (passengers with known age):"
     ]
    },
    {
     "data": {
      "text/plain": [
       "   Min. 1st Qu.  Median    Mean 3rd Qu.    Max. \n",
       " 0.0000  0.0000  0.0000  0.4314  1.0000  6.0000 "
      ]
     },
     "metadata": {},
     "output_type": "display_data"
    }
   ],
   "source": [
    "cat(\"Number of Parents/Children Aboard (all passengers):\")\n",
    "summary(titanic$Parch)\n",
    "cat(\"Number of Parents/Children Aboard (passengers with known age):\")\n",
    "summary(passengers_with_age$Parch)"
   ]
  },
  {
   "cell_type": "code",
   "execution_count": 43,
   "metadata": {},
   "outputs": [
    {
     "data": {
      "text/html": [
       "0.62962962962963"
      ],
      "text/latex": [
       "0.62962962962963"
      ],
      "text/markdown": [
       "0.62962962962963"
      ],
      "text/plain": [
       "[1] 0.6296296"
      ]
     },
     "metadata": {},
     "output_type": "display_data"
    }
   ],
   "source": [
    "Parch_mask = titanic$Parch == 1\n",
    "Parch_survived = rep(0, NROW(titanic))\n",
    "Parch_survived = Parch_mask\n",
    "accuracy(titanic$Survived, Parch_mask)"
   ]
  }
 ],
 "metadata": {
  "kernelspec": {
   "display_name": "R",
   "language": "R",
   "name": "ir"
  },
  "language_info": {
   "codemirror_mode": "r",
   "file_extension": ".r",
   "mimetype": "text/x-r-source",
   "name": "R",
   "pygments_lexer": "r",
   "version": "3.4.1"
  }
 },
 "nbformat": 4,
 "nbformat_minor": 2
}
